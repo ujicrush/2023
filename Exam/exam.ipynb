{
 "cells": [
  {
   "cell_type": "markdown",
   "id": "e4fc29c0d30afb83",
   "metadata": {},
   "source": [
    "# ADA final exam (Fall 2023)\n",
    "\n",
    "This exam consists of 2 parts. Parts are independent from each other.\n",
    "\n",
    "## Dataset\n",
    "\n",
    "\n",
    "\"Friends\" is an American television sitcom that originally aired on NBC from September 22, 1994, to May 6, 2004. Created by David Crane and Marta Kauffman, the show gained immense popularity and has since become a classic in the world of television. The series is set in New York City and revolves around a group of six friends: Ross Geller (David Schwimmer), Rachel Green (Jennifer Aniston), Monica Geller (Courteney Cox), Chandler Bing (Matthew Perry), Joey Tribbiani (Matt LeBlanc), and Phoebe Buffay (Lisa Kudrow). The show explores their personal and professional lives as they navigate the ups and downs of relationships, careers, and the challenges of adulthood.\n",
    "\n",
    "In this exam, we will use a dataset containing all the conversations that occurred over 10 seasons of Friends. We refer to each row in the dataset as an 'utterance.\" The data format of the dataset is as follows\n",
    "\n",
    "- id: `<str>`, the index of the utterance in the format sAA_eBB_cCC_uDDD, where AA is the season number, BB is the episode number, CC is the scene/conversation number, and DDD is the number of the utterance in the scene (e.g. s01_e18_c05_u021).\n",
    "- speaker: `<str>`, the speaker who made the utterance, e.g. Monica Geller\n",
    "- conversation_id: `<str>`, the id of the first utterance in the conversation this utterance belongs. We assume conversations begin at the start of a new scene.\n",
    "- reply_to: `<str>`, the id of the utterance to which this utterance replies. None if the utterance is the first in a conversation.\n",
    "- text: `<str>`, the textual content of the utterance.\n"
   ]
  },
  {
   "cell_type": "code",
   "execution_count": 67,
   "id": "b039cc2f",
   "metadata": {},
   "outputs": [],
   "source": [
    "# First, let's import some required libraries!\n",
    "import statsmodels.formula.api as smf\n",
    "import pandas as pd\n",
    "from collections import Counter\n",
    "import networkx as nx\n",
    "import seaborn as sns\n",
    "import matplotlib.pyplot as plt\n",
    "import itertools\n",
    "import numpy as np"
   ]
  },
  {
   "cell_type": "markdown",
   "id": "77be188a",
   "metadata": {},
   "source": [
    "\n",
    "## Part 1: The one where you find the protagonist (60 pts)\n",
    "\n",
    "A big debate among Friends fans is: who is the show's main character? In this task, your goal is to provide a data-driven answer to this question.\n",
    "\n",
    "\n",
    "--- \n",
    "\n",
    "**1.1 —** Load the data from the jsonl file `exam1.jsonl` into a pandas dataframe. Then\n",
    " \n",
    " A. Calculate and display the number of distinct speakers in the dataframe.\n",
    " \n",
    " B. Calculate and display the number of conversations (see `conversation_id`).\n",
    " \n",
    " C. Remove all utterances from the dataframe where the `speaker` is \"TRANSCRIPT_NOTE\" or \"#ALL#\". Print the number of rows in the dataframe.\n",
    " \n",
    " D. Create additional columns corresponding to the season (`season`, e.g., season 1 should contain `s01`) and the episode (`episode`, e.g., episode 5 of season 4 should contain `s04_e05`) of each utterance. Print the season and the episode associated with utterance `s10_e18_c11_u019`.\n",
    " \n",
    " E. Create an additional column corresponding to the length of each utterance in terms of the number of characters (`length`). Print the length associated with utterance `s10_e18_c11_u019`.\n"
   ]
  },
  {
   "cell_type": "code",
   "execution_count": 68,
   "id": "d4daa420",
   "metadata": {},
   "outputs": [
    {
     "data": {
      "text/html": [
       "<div>\n",
       "<style scoped>\n",
       "    .dataframe tbody tr th:only-of-type {\n",
       "        vertical-align: middle;\n",
       "    }\n",
       "\n",
       "    .dataframe tbody tr th {\n",
       "        vertical-align: top;\n",
       "    }\n",
       "\n",
       "    .dataframe thead th {\n",
       "        text-align: right;\n",
       "    }\n",
       "</style>\n",
       "<table border=\"1\" class=\"dataframe\">\n",
       "  <thead>\n",
       "    <tr style=\"text-align: right;\">\n",
       "      <th></th>\n",
       "      <th>id</th>\n",
       "      <th>conversation_id</th>\n",
       "      <th>text</th>\n",
       "      <th>speaker</th>\n",
       "      <th>reply-to</th>\n",
       "    </tr>\n",
       "  </thead>\n",
       "  <tbody>\n",
       "    <tr>\n",
       "      <th>44970</th>\n",
       "      <td>s07_e13_c15_u028</td>\n",
       "      <td>s07_e13_c15_u001</td>\n",
       "      <td>I think I should get the chair!</td>\n",
       "      <td>Chandler Bing</td>\n",
       "      <td>s07_e13_c15_u027</td>\n",
       "    </tr>\n",
       "    <tr>\n",
       "      <th>36179</th>\n",
       "      <td>s06_e08_c06_u033</td>\n",
       "      <td>s06_e08_c06_u001</td>\n",
       "      <td>That-that is your make out buddy. Don't you re...</td>\n",
       "      <td>Rachel Green</td>\n",
       "      <td>s06_e08_c06_u032</td>\n",
       "    </tr>\n",
       "    <tr>\n",
       "      <th>2662</th>\n",
       "      <td>s01_e11_c01_u008</td>\n",
       "      <td>s01_e11_c01_u001</td>\n",
       "      <td>Nice hat.</td>\n",
       "      <td>Guy</td>\n",
       "      <td>s01_e11_c01_u007</td>\n",
       "    </tr>\n",
       "    <tr>\n",
       "      <th>56456</th>\n",
       "      <td>s09_e05_c08_u013</td>\n",
       "      <td>s09_e05_c08_u000</td>\n",
       "      <td>Finally you guys made it. Pheebs, who the hell...</td>\n",
       "      <td>Joey Tribbiani</td>\n",
       "      <td>s09_e05_c08_u012</td>\n",
       "    </tr>\n",
       "    <tr>\n",
       "      <th>40365</th>\n",
       "      <td>s06_e22_c08_u004</td>\n",
       "      <td>s06_e22_c08_u001</td>\n",
       "      <td>What? I-I bought groceries, I was gonna make y...</td>\n",
       "      <td>Monica Geller</td>\n",
       "      <td>s06_e22_c08_u003</td>\n",
       "    </tr>\n",
       "  </tbody>\n",
       "</table>\n",
       "</div>"
      ],
      "text/plain": [
       "                     id   conversation_id  \\\n",
       "44970  s07_e13_c15_u028  s07_e13_c15_u001   \n",
       "36179  s06_e08_c06_u033  s06_e08_c06_u001   \n",
       "2662   s01_e11_c01_u008  s01_e11_c01_u001   \n",
       "56456  s09_e05_c08_u013  s09_e05_c08_u000   \n",
       "40365  s06_e22_c08_u004  s06_e22_c08_u001   \n",
       "\n",
       "                                                    text         speaker  \\\n",
       "44970                    I think I should get the chair!   Chandler Bing   \n",
       "36179  That-that is your make out buddy. Don't you re...    Rachel Green   \n",
       "2662                                           Nice hat.             Guy   \n",
       "56456  Finally you guys made it. Pheebs, who the hell...  Joey Tribbiani   \n",
       "40365  What? I-I bought groceries, I was gonna make y...   Monica Geller   \n",
       "\n",
       "               reply-to  \n",
       "44970  s07_e13_c15_u027  \n",
       "36179  s06_e08_c06_u032  \n",
       "2662   s01_e11_c01_u007  \n",
       "56456  s09_e05_c08_u012  \n",
       "40365  s06_e22_c08_u003  "
      ]
     },
     "execution_count": 68,
     "metadata": {},
     "output_type": "execute_result"
    }
   ],
   "source": [
    "df = pd.read_json(\"./data/exam1.jsonl\", lines=True)\n",
    "\n",
    "df.sample(5)"
   ]
  },
  {
   "cell_type": "code",
   "execution_count": 69,
   "id": "815db1a7",
   "metadata": {},
   "outputs": [
    {
     "name": "stdout",
     "output_type": "stream",
     "text": [
      "A. Distinct speakers: 700\n",
      "B. Distinct conversations: 3107\n",
      "C. Rows in the dataframe: 60985\n",
      "D: s10_e18_c11_u019: ['s10' 's10_e18']\n",
      "E: s10_e18_c11_u019: [17]\n"
     ]
    }
   ],
   "source": [
    "# A.\n",
    "print(\"A. Distinct speakers:\", df['speaker'].nunique())\n",
    "\n",
    "# B.\n",
    "print(\"B. Distinct conversations:\", df['conversation_id'].nunique())\n",
    "\n",
    "# C.\n",
    "df = df.loc[~df.speaker.isin([\"TRANSCRIPT_NOTE\", \"#ALL#\"])].copy()\n",
    "print(\"C. Rows in the dataframe:\", len(df))\n",
    "\n",
    "# D.\n",
    "df['season'] = df['id'].apply(lambda s: s[:3])\n",
    "df['episode'] = df['id'].apply(lambda s: s[:7])\n",
    "print(\"D: s10_e18_c11_u019:\", df.set_index(\"id\").loc[\"s10_e18_c11_u019\",['season','episode']].values)\n",
    "\n",
    "# E.\n",
    "df['length'] = df['text'].apply(lambda s: len(s))\n",
    "print(\"E: s10_e18_c11_u019:\", df.set_index(\"id\").loc[\"s10_e18_c11_u019\",['length']].values)"
   ]
  },
  {
   "cell_type": "markdown",
   "id": "60d3bdc7",
   "metadata": {},
   "source": [
    "**1.2** Next, you conduct some basic analyses:\n",
    "\n",
    " A. With `statsmodels`, fit a linear regression `length ~ C(season, Treatment(reference=\"s01\"))`, where length is an integer and season is a categorical variable. Print the regression summary.\n",
    " \n",
    " B. /**Discuss:/** Considering the regression summary:\n",
    "   - What does the intercept in this regression represent? \n",
    "   - What does the coefficient `C(season, Treatment(reference=\"s01\"))[T.s09]` represent? \n",
    "   - Does the average utterance in season 9 contain significantly more characters than in season 1 at the 0.05 significance level? Justify with the regression summary **only**. \n",
    "   - Does the average utterance in season 10 contain significantly more characters than in season 1 at the 0.05 significance level? Justify with the regression summary  **only** .\n",
    "\n",
    " C. Argue visually (i.e., with a plot) that there are 6 main characters in the show."
   ]
  },
  {
   "cell_type": "code",
   "execution_count": 70,
   "id": "ce9b97c7",
   "metadata": {},
   "outputs": [
    {
     "data": {
      "text/html": [
       "<div>\n",
       "<style scoped>\n",
       "    .dataframe tbody tr th:only-of-type {\n",
       "        vertical-align: middle;\n",
       "    }\n",
       "\n",
       "    .dataframe tbody tr th {\n",
       "        vertical-align: top;\n",
       "    }\n",
       "\n",
       "    .dataframe thead th {\n",
       "        text-align: right;\n",
       "    }\n",
       "</style>\n",
       "<table border=\"1\" class=\"dataframe\">\n",
       "  <thead>\n",
       "    <tr style=\"text-align: right;\">\n",
       "      <th></th>\n",
       "      <th>id</th>\n",
       "      <th>conversation_id</th>\n",
       "      <th>text</th>\n",
       "      <th>speaker</th>\n",
       "      <th>reply-to</th>\n",
       "      <th>season</th>\n",
       "      <th>episode</th>\n",
       "      <th>length</th>\n",
       "    </tr>\n",
       "  </thead>\n",
       "  <tbody>\n",
       "    <tr>\n",
       "      <th>6152</th>\n",
       "      <td>s01_e23_c05_u017</td>\n",
       "      <td>s01_e23_c05_u001</td>\n",
       "      <td>Isn't!</td>\n",
       "      <td>Lydia</td>\n",
       "      <td>s01_e23_c05_u016</td>\n",
       "      <td>s01</td>\n",
       "      <td>s01_e23</td>\n",
       "      <td>6</td>\n",
       "    </tr>\n",
       "  </tbody>\n",
       "</table>\n",
       "</div>"
      ],
      "text/plain": [
       "                    id   conversation_id    text speaker          reply-to  \\\n",
       "6152  s01_e23_c05_u017  s01_e23_c05_u001  Isn't!   Lydia  s01_e23_c05_u016   \n",
       "\n",
       "     season  episode  length  \n",
       "6152    s01  s01_e23       6  "
      ]
     },
     "execution_count": 70,
     "metadata": {},
     "output_type": "execute_result"
    }
   ],
   "source": [
    "df.sample()"
   ]
  },
  {
   "cell_type": "code",
   "execution_count": 71,
   "id": "02c91750",
   "metadata": {},
   "outputs": [],
   "source": [
    "# A."
   ]
  },
  {
   "cell_type": "code",
   "execution_count": 72,
   "id": "bf0b3c34",
   "metadata": {},
   "outputs": [],
   "source": [
    "# Declares the model\n",
    "mod = smf.ols(formula='length ~ C(season, Treatment(reference=\"s01\"))', data=df)"
   ]
  },
  {
   "cell_type": "code",
   "execution_count": 73,
   "id": "89175567",
   "metadata": {},
   "outputs": [],
   "source": [
    "np.random.seed(2)\n",
    "res = mod.fit()"
   ]
  },
  {
   "cell_type": "code",
   "execution_count": 74,
   "id": "082ff165",
   "metadata": {},
   "outputs": [
    {
     "name": "stdout",
     "output_type": "stream",
     "text": [
      "                            OLS Regression Results                            \n",
      "==============================================================================\n",
      "Dep. Variable:                 length   R-squared:                       0.001\n",
      "Model:                            OLS   Adj. R-squared:                  0.001\n",
      "Method:                 Least Squares   F-statistic:                     8.058\n",
      "Date:                Tue, 07 Jan 2025   Prob (F-statistic):           4.96e-12\n",
      "Time:                        00:21:14   Log-Likelihood:            -3.2981e+05\n",
      "No. Observations:               60985   AIC:                         6.596e+05\n",
      "Df Residuals:                   60975   BIC:                         6.597e+05\n",
      "Df Model:                           9                                         \n",
      "Covariance Type:            nonrobust                                         \n",
      "================================================================================================================\n",
      "                                                   coef    std err          t      P>|t|      [0.025      0.975]\n",
      "----------------------------------------------------------------------------------------------------------------\n",
      "Intercept                                       51.0190      0.704     72.464      0.000      49.639      52.399\n",
      "C(season, Treatment(reference=\"s01\"))[T.s02]     2.2764      1.004      2.268      0.023       0.309       4.243\n",
      "C(season, Treatment(reference=\"s01\"))[T.s03]     1.1906      0.974      1.222      0.222      -0.718       3.100\n",
      "C(season, Treatment(reference=\"s01\"))[T.s04]     0.6674      0.980      0.681      0.496      -1.253       2.588\n",
      "C(season, Treatment(reference=\"s01\"))[T.s05]    -0.3185      0.984     -0.324      0.746      -2.247       1.610\n",
      "C(season, Treatment(reference=\"s01\"))[T.s06]     1.9612      0.974      2.013      0.044       0.052       3.871\n",
      "C(season, Treatment(reference=\"s01\"))[T.s07]     0.3712      0.979      0.379      0.705      -1.548       2.290\n",
      "C(season, Treatment(reference=\"s01\"))[T.s08]     1.1265      0.982      1.147      0.251      -0.799       3.052\n",
      "C(season, Treatment(reference=\"s01\"))[T.s09]     6.0889      0.979      6.222      0.000       4.171       8.007\n",
      "C(season, Treatment(reference=\"s01\"))[T.s10]    -0.8470      1.026     -0.825      0.409      -2.858       1.164\n",
      "==============================================================================\n",
      "Omnibus:                    39360.499   Durbin-Watson:                   1.966\n",
      "Prob(Omnibus):                  0.000   Jarque-Bera (JB):           721113.209\n",
      "Skew:                           2.832   Prob(JB):                         0.00\n",
      "Kurtosis:                      18.865   Cond. No.                         11.1\n",
      "==============================================================================\n",
      "\n",
      "Notes:\n",
      "[1] Standard Errors assume that the covariance matrix of the errors is correctly specified.\n"
     ]
    }
   ],
   "source": [
    "# Print thes summary output provided by the library.\n",
    "print(res.summary())"
   ]
  },
  {
   "cell_type": "code",
   "execution_count": 75,
   "id": "19d0052f",
   "metadata": {},
   "outputs": [],
   "source": [
    "# C."
   ]
  },
  {
   "cell_type": "code",
   "execution_count": 76,
   "id": "72c40ea8",
   "metadata": {},
   "outputs": [
    {
     "data": {
      "text/html": [
       "<div>\n",
       "<style scoped>\n",
       "    .dataframe tbody tr th:only-of-type {\n",
       "        vertical-align: middle;\n",
       "    }\n",
       "\n",
       "    .dataframe tbody tr th {\n",
       "        vertical-align: top;\n",
       "    }\n",
       "\n",
       "    .dataframe thead th {\n",
       "        text-align: right;\n",
       "    }\n",
       "</style>\n",
       "<table border=\"1\" class=\"dataframe\">\n",
       "  <thead>\n",
       "    <tr style=\"text-align: right;\">\n",
       "      <th></th>\n",
       "      <th>id</th>\n",
       "      <th>conversation_id</th>\n",
       "      <th>text</th>\n",
       "      <th>speaker</th>\n",
       "      <th>reply-to</th>\n",
       "      <th>season</th>\n",
       "      <th>episode</th>\n",
       "      <th>length</th>\n",
       "    </tr>\n",
       "  </thead>\n",
       "  <tbody>\n",
       "    <tr>\n",
       "      <th>18942</th>\n",
       "      <td>s03_e22_c08_u017</td>\n",
       "      <td>s03_e22_c08_u001</td>\n",
       "      <td>Yes!!</td>\n",
       "      <td>Monica Geller</td>\n",
       "      <td>s03_e22_c08_u016</td>\n",
       "      <td>s03</td>\n",
       "      <td>s03_e22</td>\n",
       "      <td>5</td>\n",
       "    </tr>\n",
       "  </tbody>\n",
       "</table>\n",
       "</div>"
      ],
      "text/plain": [
       "                     id   conversation_id   text        speaker  \\\n",
       "18942  s03_e22_c08_u017  s03_e22_c08_u001  Yes!!  Monica Geller   \n",
       "\n",
       "               reply-to season  episode  length  \n",
       "18942  s03_e22_c08_u016    s03  s03_e22       5  "
      ]
     },
     "execution_count": 76,
     "metadata": {},
     "output_type": "execute_result"
    }
   ],
   "source": [
    "df.sample()"
   ]
  },
  {
   "cell_type": "code",
   "execution_count": 77,
   "id": "cd30a58b",
   "metadata": {},
   "outputs": [
    {
     "data": {
      "image/png": "[encoded data removed]",
      "text/plain": [
       "<Figure size 640x480 with 1 Axes>"
      ]
     },
     "metadata": {},
     "output_type": "display_data"
    }
   ],
   "source": [
    "tmp = df.groupby(df['speaker']).count().sort_values('id', ascending=False).reset_index()\n",
    "plt.plot(tmp.index, tmp.id)\n",
    "plt.xscale(\"log\")\n",
    "plt.show()"
   ]
  },
  {
   "cell_type": "markdown",
   "id": "eeb47cab",
   "metadata": {},
   "source": [
    "--- \n",
    "**1.3 —** Using `networkx` \n",
    "\n",
    "A. Create a `MultiDiGraph` (directed graph with self loops and parallel edges) where:\n",
    "- Each node $u$ is a character uniquely identified by the `speaker` field.\n",
    "- There is an edge between nodes $u$ and $v$ if $u$ replied to $v$. If an utterance (a row in the dataframe) is said in reply to nobody, then it will not correspond to an edge. Each edge should contain two attributes. Each edge should have two attributes: `season` and `episode`.\n",
    "\n",
    "B. Print the number of nodes and edges in your graph.\n",
    "\n",
    "C. **/Discuss:/** Instead of using multi-edges, what would be another way in which you could capture the number of replies associated with each node pair?\n"
   ]
  },
  {
   "cell_type": "code",
   "execution_count": 78,
   "id": "9f362612",
   "metadata": {},
   "outputs": [
    {
     "data": {
      "text/html": [
       "<div>\n",
       "<style scoped>\n",
       "    .dataframe tbody tr th:only-of-type {\n",
       "        vertical-align: middle;\n",
       "    }\n",
       "\n",
       "    .dataframe tbody tr th {\n",
       "        vertical-align: top;\n",
       "    }\n",
       "\n",
       "    .dataframe thead th {\n",
       "        text-align: right;\n",
       "    }\n",
       "</style>\n",
       "<table border=\"1\" class=\"dataframe\">\n",
       "  <thead>\n",
       "    <tr style=\"text-align: right;\">\n",
       "      <th></th>\n",
       "      <th>id</th>\n",
       "      <th>conversation_id</th>\n",
       "      <th>text</th>\n",
       "      <th>speaker</th>\n",
       "      <th>reply-to</th>\n",
       "      <th>season</th>\n",
       "      <th>episode</th>\n",
       "      <th>length</th>\n",
       "    </tr>\n",
       "  </thead>\n",
       "  <tbody>\n",
       "    <tr>\n",
       "      <th>59316</th>\n",
       "      <td>s09_e16_c02_u015</td>\n",
       "      <td>s09_e16_c02_u000</td>\n",
       "      <td>So we're doing it?</td>\n",
       "      <td>Mike Hannigan</td>\n",
       "      <td>s09_e16_c02_u014</td>\n",
       "      <td>s09</td>\n",
       "      <td>s09_e16</td>\n",
       "      <td>18</td>\n",
       "    </tr>\n",
       "  </tbody>\n",
       "</table>\n",
       "</div>"
      ],
      "text/plain": [
       "                     id   conversation_id                text        speaker  \\\n",
       "59316  s09_e16_c02_u015  s09_e16_c02_u000  So we're doing it?  Mike Hannigan   \n",
       "\n",
       "               reply-to season  episode  length  \n",
       "59316  s09_e16_c02_u014    s09  s09_e16      18  "
      ]
     },
     "execution_count": 78,
     "metadata": {},
     "output_type": "execute_result"
    }
   ],
   "source": [
    "df.sample()"
   ]
  },
  {
   "cell_type": "code",
   "execution_count": 79,
   "id": "2415e02d",
   "metadata": {},
   "outputs": [],
   "source": [
    "# edge_attr=None：指定是否将数据框中的其他列作为边的属性，设置为None，则不会为边添加额外的属性\n",
    "df = df.merge(df[['id','speaker']],right_on='id',left_on='reply-to',how='left')"
   ]
  },
  {
   "cell_type": "code",
   "execution_count": 65,
   "id": "c891b08d",
   "metadata": {},
   "outputs": [
    {
     "data": {
      "text/html": [
       "<div>\n",
       "<style scoped>\n",
       "    .dataframe tbody tr th:only-of-type {\n",
       "        vertical-align: middle;\n",
       "    }\n",
       "\n",
       "    .dataframe tbody tr th {\n",
       "        vertical-align: top;\n",
       "    }\n",
       "\n",
       "    .dataframe thead th {\n",
       "        text-align: right;\n",
       "    }\n",
       "</style>\n",
       "<table border=\"1\" class=\"dataframe\">\n",
       "  <thead>\n",
       "    <tr style=\"text-align: right;\">\n",
       "      <th></th>\n",
       "      <th>id_x</th>\n",
       "      <th>conversation_id</th>\n",
       "      <th>text</th>\n",
       "      <th>speaker_x</th>\n",
       "      <th>reply-to</th>\n",
       "      <th>season</th>\n",
       "      <th>episode</th>\n",
       "      <th>length</th>\n",
       "      <th>id_y</th>\n",
       "      <th>speaker_y</th>\n",
       "    </tr>\n",
       "  </thead>\n",
       "  <tbody>\n",
       "    <tr>\n",
       "      <th>1</th>\n",
       "      <td>s01_e01_c01_u002</td>\n",
       "      <td>s01_e01_c01_u001</td>\n",
       "      <td>C'mon, you're going out with the guy! There's ...</td>\n",
       "      <td>Joey Tribbiani</td>\n",
       "      <td>s01_e01_c01_u001</td>\n",
       "      <td>s01</td>\n",
       "      <td>s01_e01</td>\n",
       "      <td>80</td>\n",
       "      <td>s01_e01_c01_u001</td>\n",
       "      <td>Monica Geller</td>\n",
       "    </tr>\n",
       "    <tr>\n",
       "      <th>2</th>\n",
       "      <td>s01_e01_c01_u003</td>\n",
       "      <td>s01_e01_c01_u001</td>\n",
       "      <td>All right Joey, be nice. So does he have a hum...</td>\n",
       "      <td>Chandler Bing</td>\n",
       "      <td>s01_e01_c01_u002</td>\n",
       "      <td>s01</td>\n",
       "      <td>s01_e01</td>\n",
       "      <td>72</td>\n",
       "      <td>s01_e01_c01_u002</td>\n",
       "      <td>Joey Tribbiani</td>\n",
       "    </tr>\n",
       "    <tr>\n",
       "      <th>3</th>\n",
       "      <td>s01_e01_c01_u004</td>\n",
       "      <td>s01_e01_c01_u001</td>\n",
       "      <td>Wait, does he eat chalk?</td>\n",
       "      <td>Phoebe Buffay</td>\n",
       "      <td>s01_e01_c01_u003</td>\n",
       "      <td>s01</td>\n",
       "      <td>s01_e01</td>\n",
       "      <td>24</td>\n",
       "      <td>s01_e01_c01_u003</td>\n",
       "      <td>Chandler Bing</td>\n",
       "    </tr>\n",
       "    <tr>\n",
       "      <th>5</th>\n",
       "      <td>s01_e01_c01_u007</td>\n",
       "      <td>s01_e01_c01_u001</td>\n",
       "      <td>Okay, everybody relax. This is not even a date...</td>\n",
       "      <td>Monica Geller</td>\n",
       "      <td>s01_e01_c01_u006</td>\n",
       "      <td>s01</td>\n",
       "      <td>s01_e01</td>\n",
       "      <td>109</td>\n",
       "      <td>s01_e01_c01_u006</td>\n",
       "      <td>Phoebe Buffay</td>\n",
       "    </tr>\n",
       "    <tr>\n",
       "      <th>6</th>\n",
       "      <td>s01_e01_c01_u008</td>\n",
       "      <td>s01_e01_c01_u001</td>\n",
       "      <td>Sounds like a date to me.</td>\n",
       "      <td>Chandler Bing</td>\n",
       "      <td>s01_e01_c01_u007</td>\n",
       "      <td>s01</td>\n",
       "      <td>s01_e01</td>\n",
       "      <td>25</td>\n",
       "      <td>s01_e01_c01_u007</td>\n",
       "      <td>Monica Geller</td>\n",
       "    </tr>\n",
       "  </tbody>\n",
       "</table>\n",
       "</div>"
      ],
      "text/plain": [
       "               id_x   conversation_id  \\\n",
       "1  s01_e01_c01_u002  s01_e01_c01_u001   \n",
       "2  s01_e01_c01_u003  s01_e01_c01_u001   \n",
       "3  s01_e01_c01_u004  s01_e01_c01_u001   \n",
       "5  s01_e01_c01_u007  s01_e01_c01_u001   \n",
       "6  s01_e01_c01_u008  s01_e01_c01_u001   \n",
       "\n",
       "                                                text       speaker_x  \\\n",
       "1  C'mon, you're going out with the guy! There's ...  Joey Tribbiani   \n",
       "2  All right Joey, be nice. So does he have a hum...   Chandler Bing   \n",
       "3                           Wait, does he eat chalk?   Phoebe Buffay   \n",
       "5  Okay, everybody relax. This is not even a date...   Monica Geller   \n",
       "6                          Sounds like a date to me.   Chandler Bing   \n",
       "\n",
       "           reply-to season  episode  length              id_y       speaker_y  \n",
       "1  s01_e01_c01_u001    s01  s01_e01      80  s01_e01_c01_u001   Monica Geller  \n",
       "2  s01_e01_c01_u002    s01  s01_e01      72  s01_e01_c01_u002  Joey Tribbiani  \n",
       "3  s01_e01_c01_u003    s01  s01_e01      24  s01_e01_c01_u003   Chandler Bing  \n",
       "5  s01_e01_c01_u006    s01  s01_e01     109  s01_e01_c01_u006   Phoebe Buffay  \n",
       "6  s01_e01_c01_u007    s01  s01_e01      25  s01_e01_c01_u007   Monica Geller  "
      ]
     },
     "execution_count": 65,
     "metadata": {},
     "output_type": "execute_result"
    }
   ],
   "source": [
    "df_only_replies = df[~df.speaker_y.isna()]\n",
    "df_only_replies.head(5)"
   ]
  },
  {
   "cell_type": "code",
   "execution_count": 81,
   "id": "f7d9a7d5",
   "metadata": {},
   "outputs": [],
   "source": [
    "G = nx.from_pandas_edgelist(df_only_replies,source='speaker_x',target='speaker_y',edge_attr=['season','episode'],create_using=nx.MultiDiGraph())"
   ]
  },
  {
   "cell_type": "code",
   "execution_count": 84,
   "id": "24113f2c",
   "metadata": {},
   "outputs": [
    {
     "name": "stdout",
     "output_type": "stream",
     "text": [
      "MultiDiGraph with 692 nodes and 54904 edges\n"
     ]
    }
   ],
   "source": [
    "print(G)"
   ]
  },
  {
   "cell_type": "markdown",
   "id": "130a16f1",
   "metadata": {},
   "source": [
    "---\n",
    "With the graph ready, you set out to investigate who is the true protagonist of Friends.\n",
    "\n",
    "Ignore the graph you generated previously and instead use the graph provided in `exam2.graphml`. Note that this graph may be slightly different from what you generated, but treat it as the ground truth. We provide you with code to load the graph below.\n"
   ]
  },
  {
   "cell_type": "code",
   "execution_count": 85,
   "id": "a917d360",
   "metadata": {},
   "outputs": [],
   "source": [
    "import networkx as nx\n",
    "\n",
    "G = nx.read_graphml(\"./data/exam2.graphml\")"
   ]
  },
  {
   "cell_type": "markdown",
   "id": "6ad04b50",
   "metadata": {},
   "source": [
    "---"
   ]
  },
  {
   "cell_type": "markdown",
   "id": "53ee10e7",
   "metadata": {},
   "source": [
    "**1.4 —** Using the provided MultiDiGraph $G$:\n",
    "\n",
    "A. Calculate the out-degree of each node (also known as out-degree centrality). Please do not use the `nx.out_degree_centrality` function here, as it normalizes the degree. (E.g., if a node has 5 outgoing edges, it should have out-degree 5 according to your code.)\n",
    "\n",
    "B. Calculate the PageRank centrality of each node in $G$. Use the default parameters.\n",
    "\n",
    "C. Print both centrality metrics calculated above for the six main characters of Friends.\n",
    "\n",
    "D. **/Discuss:/** According to the metrics, who is the most important character in Friends?"
   ]
  },
  {
   "cell_type": "code",
   "execution_count": 86,
   "id": "aa8407dd",
   "metadata": {},
   "outputs": [],
   "source": [
    "# A. Calculate the out-degree of each node \n",
    "og  = {n: d for n, d in G.out_degree()}\n",
    "og = pd.DataFrame({(x,y) for x, y in  og.items()}, columns=[\"speaker\", \"outdegree\"]\n",
    "            ).sort_values(by=\"outdegree\", ascending=False)"
   ]
  },
  {
   "cell_type": "code",
   "execution_count": 87,
   "id": "987f68a7",
   "metadata": {},
   "outputs": [],
   "source": [
    "# B. Calculate the pagerank centrality of each node in G\n",
    "pr = nx.pagerank(G)\n",
    "pr = pd.DataFrame({(x,y) for x, y in  pr.items()}, columns=[\"speaker\", \"pagerank\"]\n",
    "            ).sort_values(by=\"pagerank\", ascending=False)"
   ]
  },
  {
   "cell_type": "code",
   "execution_count": 88,
   "id": "1a8f5722",
   "metadata": {},
   "outputs": [
    {
     "data": {
      "text/html": [
       "<div>\n",
       "<style scoped>\n",
       "    .dataframe tbody tr th:only-of-type {\n",
       "        vertical-align: middle;\n",
       "    }\n",
       "\n",
       "    .dataframe tbody tr th {\n",
       "        vertical-align: top;\n",
       "    }\n",
       "\n",
       "    .dataframe thead th {\n",
       "        text-align: right;\n",
       "    }\n",
       "</style>\n",
       "<table border=\"1\" class=\"dataframe\">\n",
       "  <thead>\n",
       "    <tr style=\"text-align: right;\">\n",
       "      <th></th>\n",
       "      <th>speaker</th>\n",
       "      <th>pagerank</th>\n",
       "      <th>outdegree</th>\n",
       "    </tr>\n",
       "  </thead>\n",
       "  <tbody>\n",
       "    <tr>\n",
       "      <th>5</th>\n",
       "      <td>Phoebe Buffay</td>\n",
       "      <td>0.102069</td>\n",
       "      <td>6797</td>\n",
       "    </tr>\n",
       "    <tr>\n",
       "      <th>4</th>\n",
       "      <td>Joey Tribbiani</td>\n",
       "      <td>0.112835</td>\n",
       "      <td>7395</td>\n",
       "    </tr>\n",
       "    <tr>\n",
       "      <th>3</th>\n",
       "      <td>Monica Geller</td>\n",
       "      <td>0.113450</td>\n",
       "      <td>7621</td>\n",
       "    </tr>\n",
       "    <tr>\n",
       "      <th>2</th>\n",
       "      <td>Chandler Bing</td>\n",
       "      <td>0.114535</td>\n",
       "      <td>7702</td>\n",
       "    </tr>\n",
       "    <tr>\n",
       "      <th>1</th>\n",
       "      <td>Ross Geller</td>\n",
       "      <td>0.125611</td>\n",
       "      <td>8234</td>\n",
       "    </tr>\n",
       "    <tr>\n",
       "      <th>0</th>\n",
       "      <td>Rachel Green</td>\n",
       "      <td>0.126843</td>\n",
       "      <td>8470</td>\n",
       "    </tr>\n",
       "  </tbody>\n",
       "</table>\n",
       "</div>"
      ],
      "text/plain": [
       "          speaker  pagerank  outdegree\n",
       "5   Phoebe Buffay  0.102069       6797\n",
       "4  Joey Tribbiani  0.112835       7395\n",
       "3   Monica Geller  0.113450       7621\n",
       "2   Chandler Bing  0.114535       7702\n",
       "1     Ross Geller  0.125611       8234\n",
       "0    Rachel Green  0.126843       8470"
      ]
     },
     "metadata": {},
     "output_type": "display_data"
    }
   ],
   "source": [
    "# C. Print both centrality metrics calculated above for the six main characters of Friends.\n",
    "centrality_df = pr.merge(og, on=\"speaker\").sort_values(\"pagerank\")\n",
    "display(centrality_df.tail(6))"
   ]
  },
  {
   "cell_type": "markdown",
   "id": "fe9f1601",
   "metadata": {},
   "source": [
    "---\n",
    "\n",
    "**1.5 —** **/True or false:/** Considering your answer in **1.4**, are the following statements true or false? Justify your answers. \n",
    "\n",
    "A. \"If we inverted all  edges in the graph such that an edge $(u,v)$ becomes an edge $(v,u)$, the PageRank centrality would remain unchanged.\"\n",
    "\n",
    "B. \"If we removed all outgoing edges from Rachel Green, her PageRank centrality would remain unchanged.\"\n",
    "\n",
    "C. \"If a new node was introduced in the graph, with 1,000 outgoing edges towards each other node, but no incoming edge, it would have the highest PageRank centrality.\"\n"
   ]
  },
  {
   "cell_type": "code",
   "execution_count": null,
   "id": "abf413c9",
   "metadata": {},
   "outputs": [],
   "source": []
  },
  {
   "cell_type": "markdown",
   "id": "6e47355c",
   "metadata": {},
   "source": [
    "---\n",
    "\n",
    "**1.6 —** Next, you consider how these centrality metrics vary over the course of the seasons.\n",
    "\n",
    "A. Calculate the PageRank and out-degree centrality of the 6 main characters per episode, i.e., for each episode, create a graph containing only the utterances of that episode and calculate the PageRank centrality for this new graph. Print the PageRank and the out-degree of Rachel Green for the first episode of the first season.\n",
    "\n",
    "B. Considering the episode-level out-degree centrality of Phoebe Buffay in season 1 and in season 10, print the mean and the standard error of the mean.\n",
    "\n",
    "C. Create a single plot with 10 inches of width and 4 inches of height. The plot should contain two panels, containing the average PageRank centrality per season of Rachel Green and Ross Geller (Panel A), and the average out-degree per season of Rachel Green and Ross Geller (Panel B). Show 95% confidence intervals in your plot (calculated over the episodes in each season).\n",
    "\n",
    "D. **/Discuss:/** Does the plot support the hypothesis that Rachel was the show's protagonist in all 10 seasons? Explain why."
   ]
  },
  {
   "cell_type": "code",
   "execution_count": 89,
   "id": "4e09a998",
   "metadata": {},
   "outputs": [
    {
     "data": {
      "text/plain": [
       "speaker      Rachel Green\n",
       "pagerank         0.153122\n",
       "outdegree              43\n",
       "episode           s01_e01\n",
       "season                  1\n",
       "Name: 3, dtype: object"
      ]
     },
     "metadata": {},
     "output_type": "display_data"
    }
   ],
   "source": [
    "# A. Calculate the pagerank and outdegree centrality of the 6 main characters per episode,\n",
    "# nx.get_edge_attributes(G, \"episode\")：获取图G中的边属性episode\n",
    "# 返回一个字典，键是边（tuple，例如(node1, node2)），值是该边所属的集数（episode）\n",
    "edge_episode = nx.get_edge_attributes(G, \"episode\")\n",
    "episode_list = sorted(list(set(df.episode.values)))     # 从数据df的episode列中提取所有集数，并去重、排序，得到集数列表\n",
    "speakers = set(list(df[\"speaker_x\"]) + list(df[\"speaker_y\"]))   # 提取所有在df中出现过的说话人，包括speaker_x和speaker_y列，放入集合speakers\n",
    "\n",
    "subgraphs_pr = []\n",
    "for episode in episode_list:\n",
    "    relevant_edges = [k for k, v in edge_episode.items() if v == episode]   # 遍历edge_episode中的所有边，选出与当前episode匹配的边\n",
    "    subgraph = G.edge_subgraph(relevant_edges)  # 使用edge_subgraph()创建一个子图，仅包含当前集数相关的边\n",
    "    # nx.pagerank(subgraph)：计算子图中每个节点的 PageRank 值，返回一个字典; .items()：将字典转换为键值对列表\n",
    "    pgr = list(nx.pagerank(subgraph).items())\n",
    "    ogr  = {n: d for n, d in subgraph.out_degree()} # subgraph.out_degree()：返回子图中每个节点的出度, 使用字典推导式将出度信息整理为字典\n",
    "    # 将所有角色集合speakers和子图中实际出现的节点集合取差集，得到当前子图中未出现的角色\n",
    "    other_chars = speakers - set(list(nx.pagerank(subgraph).keys()))    \n",
    "    \n",
    "    for k, v in pgr:\n",
    "        subgraphs_pr.append({\"speaker\": k, \"pagerank\": v, \"outdegree\": ogr[k], \"episode\": episode})\n",
    "    \n",
    "    for k in other_chars:\n",
    "        subgraphs_pr.append({\"speaker\": k, \"pagerank\": 0, \"outdegree\": 0, \"episode\": episode})\n",
    "\n",
    "df_pr_ep = pd.DataFrame(subgraphs_pr)\n",
    "df_pr_ep[\"season\"] = df_pr_ep[\"episode\"].apply(lambda x: int(x[1:3]))\n",
    "display(df_pr_ep[(df_pr_ep.speaker == \"Rachel Green\") & \n",
    "                 (df_pr_ep.episode == \"s01_e01\")].iloc[0])"
   ]
  },
  {
   "cell_type": "code",
   "execution_count": 90,
   "id": "9cb65fcd",
   "metadata": {},
   "outputs": [
    {
     "name": "stdout",
     "output_type": "stream",
     "text": [
      "Phoebe's outdegree\n"
     ]
    },
    {
     "data": {
      "text/html": [
       "<div>\n",
       "<style scoped>\n",
       "    .dataframe tbody tr th:only-of-type {\n",
       "        vertical-align: middle;\n",
       "    }\n",
       "\n",
       "    .dataframe tbody tr th {\n",
       "        vertical-align: top;\n",
       "    }\n",
       "\n",
       "    .dataframe thead th {\n",
       "        text-align: right;\n",
       "    }\n",
       "</style>\n",
       "<table border=\"1\" class=\"dataframe\">\n",
       "  <thead>\n",
       "    <tr style=\"text-align: right;\">\n",
       "      <th></th>\n",
       "      <th>mean</th>\n",
       "      <th>sem</th>\n",
       "    </tr>\n",
       "    <tr>\n",
       "      <th>season</th>\n",
       "      <th></th>\n",
       "      <th></th>\n",
       "    </tr>\n",
       "  </thead>\n",
       "  <tbody>\n",
       "    <tr>\n",
       "      <th>1</th>\n",
       "      <td>23.333333</td>\n",
       "      <td>2.200681</td>\n",
       "    </tr>\n",
       "    <tr>\n",
       "      <th>10</th>\n",
       "      <td>36.944444</td>\n",
       "      <td>2.809266</td>\n",
       "    </tr>\n",
       "  </tbody>\n",
       "</table>\n",
       "</div>"
      ],
      "text/plain": [
       "             mean       sem\n",
       "season                     \n",
       "1       23.333333  2.200681\n",
       "10      36.944444  2.809266"
      ]
     },
     "metadata": {},
     "output_type": "display_data"
    },
    {
     "name": "stdout",
     "output_type": "stream",
     "text": [
      "Phoebe's pagerank\n"
     ]
    },
    {
     "data": {
      "text/html": [
       "<div>\n",
       "<style scoped>\n",
       "    .dataframe tbody tr th:only-of-type {\n",
       "        vertical-align: middle;\n",
       "    }\n",
       "\n",
       "    .dataframe tbody tr th {\n",
       "        vertical-align: top;\n",
       "    }\n",
       "\n",
       "    .dataframe thead th {\n",
       "        text-align: right;\n",
       "    }\n",
       "</style>\n",
       "<table border=\"1\" class=\"dataframe\">\n",
       "  <thead>\n",
       "    <tr style=\"text-align: right;\">\n",
       "      <th></th>\n",
       "      <th>mean</th>\n",
       "      <th>sem</th>\n",
       "    </tr>\n",
       "    <tr>\n",
       "      <th>season</th>\n",
       "      <th></th>\n",
       "      <th></th>\n",
       "    </tr>\n",
       "  </thead>\n",
       "  <tbody>\n",
       "    <tr>\n",
       "      <th>1</th>\n",
       "      <td>0.104929</td>\n",
       "      <td>0.008984</td>\n",
       "    </tr>\n",
       "    <tr>\n",
       "      <th>10</th>\n",
       "      <td>0.130547</td>\n",
       "      <td>0.007046</td>\n",
       "    </tr>\n",
       "  </tbody>\n",
       "</table>\n",
       "</div>"
      ],
      "text/plain": [
       "            mean       sem\n",
       "season                    \n",
       "1       0.104929  0.008984\n",
       "10      0.130547  0.007046"
      ]
     },
     "metadata": {},
     "output_type": "display_data"
    }
   ],
   "source": [
    "# B. Prints the episode-level outdegree centrality of Phoebe Buffay in season 1 and in season 10\n",
    "print(\"Phoebe's outdegree\")\n",
    "display(df_pr_ep[df_pr_ep.speaker.isin([\"Phoebe Buffay\"])\n",
    "                ].groupby(\"season\").outdegree.agg([\"mean\", \"sem\"]).loc[[1,10]])\n",
    "print(\"Phoebe's pagerank\")\n",
    "display(df_pr_ep[df_pr_ep.speaker.isin([\"Phoebe Buffay\"])\n",
    "                ].groupby(\"season\").pagerank.agg([\"mean\", \"sem\"]).loc[[1,10]])"
   ]
  },
  {
   "cell_type": "code",
   "execution_count": 91,
   "id": "9fbdad9e",
   "metadata": {},
   "outputs": [
    {
     "data": {
      "image/png": "[encoded data removed]",
      "text/plain": [
       "<Figure size 1000x400 with 2 Axes>"
      ]
     },
     "metadata": {},
     "output_type": "display_data"
    }
   ],
   "source": [
    "# C. Create a single plot with 10 inches of width and 4 inches of height (...)\n",
    "df_pr_ep = df_pr_ep[df_pr_ep.speaker.isin([\"Ross Geller\", \"Rachel Green\"])]\n",
    "\n",
    "fig, axs = plt.subplots(1, 2, figsize=(10,4), sharey=\"col\", sharex=True)    # sharey=\"col\" 表示同一列的子图共享相同的 y 轴（纵轴）\n",
    "axs = axs.T.flatten()\n",
    "\n",
    "# sns.lineplot 默认会绘制均值曲线和置信区间带\n",
    "sns.lineplot(x=\"season\", y=\"pagerank\", hue=\"speaker\", data=df_pr_ep, \n",
    "             ax=axs[0],\n",
    "            marker=\".\", )\n",
    "sns.lineplot(x=\"season\", y=\"outdegree\", hue=\"speaker\",  data=df_pr_ep, \n",
    "             ax=axs[1],\n",
    "            marker=\".\");\n",
    "\n",
    "plt.show()"
   ]
  },
  {
   "cell_type": "markdown",
   "id": "94b0e5b3",
   "metadata": {},
   "source": [
    "---\n",
    "\n",
    "**1.7 —** **/True or false:/** Considering your answer in **1.6** are the following statements true or false? Justify your answer. \n",
    "\n",
    "\n",
    "A. \"In season 7, Rachel Green's episode-level PageRank and out-degree centrality are higher than Ross Geller's. This difference is statistically significant at the 0.05 significance level.\"\n",
    "\n",
    "B. \"Phoebe Buffay's out-degree grew between season 1 and season 10; this implies that other characters spoke less than her in season 10.\"\n",
    "\n",
    "C. \"Phoebe Buffay's PageRank was higher in season 10 than in season 1. This difference is statistically significant at the 0.05 significance level and suggests that the character gained importance over the course of the show.\"\n"
   ]
  },
  {
   "cell_type": "code",
   "execution_count": null,
   "id": "87e48217",
   "metadata": {},
   "outputs": [],
   "source": []
  },
  {
   "cell_type": "markdown",
   "id": "84866967",
   "metadata": {},
   "source": [
    "## Part 2: The one about text similarity (40 pts)\n",
    "\n",
    "Next, you investigate how unique characters are by analyzing what they said throughout the 10 seasons."
   ]
  },
  {
   "cell_type": "markdown",
   "id": "176a69b8",
   "metadata": {},
   "source": [
    "**2.1 —** Load the dataframe `exam3.jsonl`. This dataframe is similar to `exam1.jsonl`, except:\n",
    "\n",
    "- It has an additional column called `tokens`, containing a sentence list. Each sentence is another list composed of tokens, e.g.,\n",
    "`[['There', \"'s\", 'nothing', 'to', 'tell', '!'], ['He', \"'s\", 'just', 'some', 'guy', 'I', 'work', 'with', '!']]`.\n",
    "- It has an additional column called `episode` containing a unique episode identifier.\n",
    "- It only contains utterances by Phoebe, Rachel, Ross, Joey, Monica, or Chandler (the main characters).\n",
    " \n",
    "Given this dataframe, you will create an episode-level word-frequency matrix for Chandler Bing, one of the main characters.\n",
    "\n",
    "A. Create a list $L$ containing all distinct tokens uttered by Chandler Bing throughout the 10 seasons, sorted in ascending order. Print the 10 first and last elements of the list. \n",
    "\n",
    "B. Create a matrix $X$ with $m$ rows and $n$ columns, where: $n$ is the number of tokens in the list $L$ that you just created, and $m$ is the number of episodes (236). Each position $X_{i,j}$ in this matrix should contain the number of times the character uttered the word $j$ in episode $i$. Print how many times Chandler uttered the token `joey` in the first episode of the first season, as well as the shape of the matrix $X$.\n",
    "\n",
    "C. Transform the matrix $X$ into a TF-IDF matrix $T$, combining the following formula (as seen in class):\n",
    "\n",
    "$$\\text{TF}(i,j) = \\text{number of times the $j$-th word occurs in the $i$-th episode}$$\n",
    "\n",
    "$$\\text{IDF}(j) =  \\log \\frac{\\text{number of episodes}}{\\text{number of episodes in which the $j$-th word occurs}}$$\n",
    "\n",
    "Print the value in the TF-IDF matrix corresponding to Chandler's utterance of the token `joey` in the first episode of the first season.\n",
    "\n",
    "D. **/Discuss:/** Some of the tokens (e.g., `joey`) reference other characters. How may these tokens help a classifier predict which character uttered a sentence?"
   ]
  },
  {
   "cell_type": "code",
   "execution_count": 95,
   "id": "2e951338",
   "metadata": {},
   "outputs": [],
   "source": [
    "df=pd.read_json(\"./data/exam3.jsonl\",lines=True)"
   ]
  },
  {
   "cell_type": "code",
   "execution_count": 97,
   "id": "d594ece2",
   "metadata": {},
   "outputs": [
    {
     "data": {
      "text/html": [
       "<div>\n",
       "<style scoped>\n",
       "    .dataframe tbody tr th:only-of-type {\n",
       "        vertical-align: middle;\n",
       "    }\n",
       "\n",
       "    .dataframe tbody tr th {\n",
       "        vertical-align: top;\n",
       "    }\n",
       "\n",
       "    .dataframe thead th {\n",
       "        text-align: right;\n",
       "    }\n",
       "</style>\n",
       "<table border=\"1\" class=\"dataframe\">\n",
       "  <thead>\n",
       "    <tr style=\"text-align: right;\">\n",
       "      <th></th>\n",
       "      <th>id</th>\n",
       "      <th>conversation_id</th>\n",
       "      <th>text</th>\n",
       "      <th>speaker</th>\n",
       "      <th>reply-to</th>\n",
       "      <th>tokens</th>\n",
       "      <th>episode</th>\n",
       "      <th>tokens_flat</th>\n",
       "    </tr>\n",
       "  </thead>\n",
       "  <tbody>\n",
       "    <tr>\n",
       "      <th>19477</th>\n",
       "      <td>s04_e23_c11_u025</td>\n",
       "      <td>s04_e23_c11_u001</td>\n",
       "      <td>Ow!</td>\n",
       "      <td>Rachel Green</td>\n",
       "      <td>s04_e23_c11_u024</td>\n",
       "      <td>[[ow, !]]</td>\n",
       "      <td>s04_e23</td>\n",
       "      <td>[ow, !]</td>\n",
       "    </tr>\n",
       "    <tr>\n",
       "      <th>13194</th>\n",
       "      <td>s03_e18_c05_u003</td>\n",
       "      <td>s03_e18_c05_u001</td>\n",
       "      <td>Pheebs, what, is it the age thing?</td>\n",
       "      <td>Ross Geller</td>\n",
       "      <td>s03_e18_c05_u002</td>\n",
       "      <td>[[pheebs, ,, what, ,, is, it, the, age, thing,...</td>\n",
       "      <td>s03_e18</td>\n",
       "      <td>[pheebs, ,, what, ,, is, it, the, age, thing, ?]</td>\n",
       "    </tr>\n",
       "    <tr>\n",
       "      <th>12785</th>\n",
       "      <td>s03_e16_c13_u059</td>\n",
       "      <td>s03_e16_c13_u001</td>\n",
       "      <td>Come on Ross! You said you wanted to talk abou...</td>\n",
       "      <td>Rachel Green</td>\n",
       "      <td>s03_e16_c13_u058</td>\n",
       "      <td>[[come, on, ross, !], [you, said, you, wanted,...</td>\n",
       "      <td>s03_e16</td>\n",
       "      <td>[come, on, ross, !, you, said, you, wanted, to...</td>\n",
       "    </tr>\n",
       "  </tbody>\n",
       "</table>\n",
       "</div>"
      ],
      "text/plain": [
       "                     id   conversation_id  \\\n",
       "19477  s04_e23_c11_u025  s04_e23_c11_u001   \n",
       "13194  s03_e18_c05_u003  s03_e18_c05_u001   \n",
       "12785  s03_e16_c13_u059  s03_e16_c13_u001   \n",
       "\n",
       "                                                    text       speaker  \\\n",
       "19477                                                Ow!  Rachel Green   \n",
       "13194                 Pheebs, what, is it the age thing?   Ross Geller   \n",
       "12785  Come on Ross! You said you wanted to talk abou...  Rachel Green   \n",
       "\n",
       "               reply-to                                             tokens  \\\n",
       "19477  s04_e23_c11_u024                                          [[ow, !]]   \n",
       "13194  s03_e18_c05_u002  [[pheebs, ,, what, ,, is, it, the, age, thing,...   \n",
       "12785  s03_e16_c13_u058  [[come, on, ross, !], [you, said, you, wanted,...   \n",
       "\n",
       "       episode                                        tokens_flat  \n",
       "19477  s04_e23                                            [ow, !]  \n",
       "13194  s03_e18   [pheebs, ,, what, ,, is, it, the, age, thing, ?]  \n",
       "12785  s03_e16  [come, on, ross, !, you, said, you, wanted, to...  "
      ]
     },
     "execution_count": 97,
     "metadata": {},
     "output_type": "execute_result"
    }
   ],
   "source": [
    "df['tokens_flat'] = df['tokens'].apply(lambda xss: [x for xs in xss for x in xs])\n",
    "df.sample(3)"
   ]
  },
  {
   "cell_type": "code",
   "execution_count": 98,
   "id": "30a5f625",
   "metadata": {},
   "outputs": [
    {
     "name": "stdout",
     "output_type": "stream",
     "text": [
      "First 10 tokens ['!', '!!', '!!!', '!!!!', '!!!!!', '!!!!!!!', '!..', '!...', '!?', '\"']\n",
      " Last 10 tokens ['yummy', 'yup', 'zack', 'zero', 'zip', 'zone', 'zoo', 'zorps', '{', '}']\n"
     ]
    }
   ],
   "source": [
    "dfc = df.loc[df['speaker'] == 'Chandler Bing']\n",
    "\n",
    "token_index = [x for xs in dfc[\"tokens_flat\"] for x in xs]\n",
    "token_index = sorted(list(set(token_index)))\n",
    "\n",
    "print(\"First 10 tokens\", token_index[:10])\n",
    "print(\" Last 10 tokens\", token_index[-10:])"
   ]
  },
  {
   "cell_type": "code",
   "execution_count": 99,
   "id": "18dd8c93",
   "metadata": {},
   "outputs": [
    {
     "data": {
      "text/html": [
       "<div>\n",
       "<style scoped>\n",
       "    .dataframe tbody tr th:only-of-type {\n",
       "        vertical-align: middle;\n",
       "    }\n",
       "\n",
       "    .dataframe tbody tr th {\n",
       "        vertical-align: top;\n",
       "    }\n",
       "\n",
       "    .dataframe thead th {\n",
       "        text-align: right;\n",
       "    }\n",
       "</style>\n",
       "<table border=\"1\" class=\"dataframe\">\n",
       "  <thead>\n",
       "    <tr style=\"text-align: right;\">\n",
       "      <th></th>\n",
       "      <th>id</th>\n",
       "      <th>conversation_id</th>\n",
       "      <th>text</th>\n",
       "      <th>speaker</th>\n",
       "      <th>reply-to</th>\n",
       "      <th>tokens</th>\n",
       "      <th>episode</th>\n",
       "      <th>tokens_flat</th>\n",
       "    </tr>\n",
       "  </thead>\n",
       "  <tbody>\n",
       "    <tr>\n",
       "      <th>824</th>\n",
       "      <td>s01_e04_c13_u012</td>\n",
       "      <td>s01_e04_c13_u001</td>\n",
       "      <td>So in your whole life, you've only been with o...</td>\n",
       "      <td>Chandler Bing</td>\n",
       "      <td>s01_e04_c13_u011</td>\n",
       "      <td>[[so, in, your, whole, life, ,, you, 've, only...</td>\n",
       "      <td>s01_e04</td>\n",
       "      <td>[so, in, your, whole, life, ,, you, 've, only,...</td>\n",
       "    </tr>\n",
       "    <tr>\n",
       "      <th>8211</th>\n",
       "      <td>s02_e18_c10_u006</td>\n",
       "      <td>s02_e18_c10_u001</td>\n",
       "      <td>Buddy?</td>\n",
       "      <td>Chandler Bing</td>\n",
       "      <td>s02_e18_c10_u005</td>\n",
       "      <td>[[buddy, ?]]</td>\n",
       "      <td>s02_e18</td>\n",
       "      <td>[buddy, ?]</td>\n",
       "    </tr>\n",
       "    <tr>\n",
       "      <th>15714</th>\n",
       "      <td>s04_e06_c02_u017</td>\n",
       "      <td>s04_e06_c02_u001</td>\n",
       "      <td>Okay, all right, I'll just uh, make sure that ...</td>\n",
       "      <td>Chandler Bing</td>\n",
       "      <td>s04_e06_c02_u016</td>\n",
       "      <td>[[okay, ,, all, right, ,, i, 'll, just, uh, ,,...</td>\n",
       "      <td>s04_e06</td>\n",
       "      <td>[okay, ,, all, right, ,, i, 'll, just, uh, ,, ...</td>\n",
       "    </tr>\n",
       "  </tbody>\n",
       "</table>\n",
       "</div>"
      ],
      "text/plain": [
       "                     id   conversation_id  \\\n",
       "824    s01_e04_c13_u012  s01_e04_c13_u001   \n",
       "8211   s02_e18_c10_u006  s02_e18_c10_u001   \n",
       "15714  s04_e06_c02_u017  s04_e06_c02_u001   \n",
       "\n",
       "                                                    text        speaker  \\\n",
       "824    So in your whole life, you've only been with o...  Chandler Bing   \n",
       "8211                                              Buddy?  Chandler Bing   \n",
       "15714  Okay, all right, I'll just uh, make sure that ...  Chandler Bing   \n",
       "\n",
       "               reply-to                                             tokens  \\\n",
       "824    s01_e04_c13_u011  [[so, in, your, whole, life, ,, you, 've, only...   \n",
       "8211   s02_e18_c10_u005                                       [[buddy, ?]]   \n",
       "15714  s04_e06_c02_u016  [[okay, ,, all, right, ,, i, 'll, just, uh, ,,...   \n",
       "\n",
       "       episode                                        tokens_flat  \n",
       "824    s01_e04  [so, in, your, whole, life, ,, you, 've, only,...  \n",
       "8211   s02_e18                                         [buddy, ?]  \n",
       "15714  s04_e06  [okay, ,, all, right, ,, i, 'll, just, uh, ,, ...  "
      ]
     },
     "execution_count": 99,
     "metadata": {},
     "output_type": "execute_result"
    }
   ],
   "source": [
    "dfc.sample(3)"
   ]
  },
  {
   "cell_type": "code",
   "execution_count": 100,
   "id": "e2528a74",
   "metadata": {},
   "outputs": [
    {
     "name": "stdout",
     "output_type": "stream",
     "text": [
      " How many times Chandler uttered the token joey in the first episode of the first season? 1.0\n",
      "X shape (6063, 236)\n"
     ]
    }
   ],
   "source": [
    "# B. Create a matrix $X$ with $m$ rows and $n$ columns.\n",
    "\n",
    "# Creates episode index\n",
    "episode_index = [x for x in  dfc[\"episode\"]]\n",
    "episode_index = sorted(list(set(episode_index)))\n",
    "\n",
    "# Creates matrix\n",
    "m, n = len(token_index), len(episode_index)\n",
    "X = np.zeros((m,n))\n",
    "\n",
    "# Populates matrix\n",
    "for tokens, episode in zip(dfc[\"tokens_flat\"].values, dfc[\"episode\"].values):\n",
    "    for token in tokens:\n",
    "        X[token_index.index(token), episode_index.index(episode)] += 1\n",
    "\n",
    "print(\" How many times Chandler uttered the token joey in the first episode of the first season?\",\n",
    "      X[token_index.index(\"joey\"), episode_index.index(\"s01_e01\")])\n",
    "\n",
    "print(\"X shape\", X.shape)"
   ]
  },
  {
   "cell_type": "code",
   "execution_count": 101,
   "id": "57a02be6",
   "metadata": {},
   "outputs": [
    {
     "name": "stdout",
     "output_type": "stream",
     "text": [
      "joey on TF-IDF 0.6931471805599453\n"
     ]
    }
   ],
   "source": [
    "# C. TF-IDF\n",
    "\n",
    "# TF\n",
    "TF = X\n",
    "# IDF\n",
    "IDF = np.log(X.shape[1]/np.count_nonzero(X, axis=1))\n",
    "# TF-IDF\n",
    "TF_IDF = TF * IDF[:, None]  # [:, None] 是 NumPy 的广播操作，将一维数组 IDF 转换为二维数组（列向量）\n",
    "\n",
    "print(\"joey on TF-IDF\", TF_IDF[token_index.index(\"joey\"), episode_index.index(\"s01_e01\")])"
   ]
  },
  {
   "cell_type": "markdown",
   "id": "9b691ae5",
   "metadata": {},
   "source": [
    "---\n",
    "For the remainder of the task, you will use the TF-IDF matrix that we compute below. Note:\n",
    "- This matrix was calculated in a slightly different way: it considers only the 1000 tokens with the highest term frequency.\n",
    "- We provide three useful variables below (`X`, `y`, and `df_tfidf`). \n",
    "    - `X` is a matrix containing the TF-IDF values for the top 1000 tokens, where each row corresponds to a character in an episode. \n",
    "    - `y` indicates which character is responsible for the utterance. Each character has a corresponding number, e.g., 2 for Monica Geller; see dictionary below. \n",
    "    - `df_tfidf` is a dataframe combining `X` with other episode and utterance-level metadata."
   ]
  },
  {
   "cell_type": "code",
   "execution_count": 102,
   "id": "6e0aebac",
   "metadata": {},
   "outputs": [
    {
     "name": "stdout",
     "output_type": "stream",
     "text": [
      "X shape (51312, 1000)\n",
      "y shape (51312,)\n"
     ]
    },
    {
     "data": {
      "text/html": [
       "<div>\n",
       "<style scoped>\n",
       "    .dataframe tbody tr th:only-of-type {\n",
       "        vertical-align: middle;\n",
       "    }\n",
       "\n",
       "    .dataframe tbody tr th {\n",
       "        vertical-align: top;\n",
       "    }\n",
       "\n",
       "    .dataframe thead th {\n",
       "        text-align: right;\n",
       "    }\n",
       "</style>\n",
       "<table border=\"1\" class=\"dataframe\">\n",
       "  <thead>\n",
       "    <tr style=\"text-align: right;\">\n",
       "      <th></th>\n",
       "      <th>speaker</th>\n",
       "      <th>episode</th>\n",
       "      <th>0</th>\n",
       "      <th>1</th>\n",
       "      <th>2</th>\n",
       "      <th>3</th>\n",
       "      <th>4</th>\n",
       "      <th>5</th>\n",
       "      <th>6</th>\n",
       "      <th>7</th>\n",
       "      <th>...</th>\n",
       "      <th>990</th>\n",
       "      <th>991</th>\n",
       "      <th>992</th>\n",
       "      <th>993</th>\n",
       "      <th>994</th>\n",
       "      <th>995</th>\n",
       "      <th>996</th>\n",
       "      <th>997</th>\n",
       "      <th>998</th>\n",
       "      <th>999</th>\n",
       "    </tr>\n",
       "  </thead>\n",
       "  <tbody>\n",
       "    <tr>\n",
       "      <th>0</th>\n",
       "      <td>Monica Geller</td>\n",
       "      <td>s01_e01</td>\n",
       "      <td>0.0</td>\n",
       "      <td>0.0</td>\n",
       "      <td>0.0</td>\n",
       "      <td>0.0</td>\n",
       "      <td>0.0</td>\n",
       "      <td>0.0</td>\n",
       "      <td>0.0</td>\n",
       "      <td>0.0</td>\n",
       "      <td>...</td>\n",
       "      <td>0.0</td>\n",
       "      <td>0.0</td>\n",
       "      <td>0.0</td>\n",
       "      <td>0.0</td>\n",
       "      <td>0.0</td>\n",
       "      <td>0.0</td>\n",
       "      <td>0.0</td>\n",
       "      <td>0.0</td>\n",
       "      <td>0.0</td>\n",
       "      <td>0.0</td>\n",
       "    </tr>\n",
       "    <tr>\n",
       "      <th>1</th>\n",
       "      <td>Joey Tribbiani</td>\n",
       "      <td>s01_e01</td>\n",
       "      <td>0.0</td>\n",
       "      <td>0.0</td>\n",
       "      <td>0.0</td>\n",
       "      <td>0.0</td>\n",
       "      <td>0.0</td>\n",
       "      <td>0.0</td>\n",
       "      <td>0.0</td>\n",
       "      <td>0.0</td>\n",
       "      <td>...</td>\n",
       "      <td>0.0</td>\n",
       "      <td>0.0</td>\n",
       "      <td>0.0</td>\n",
       "      <td>0.0</td>\n",
       "      <td>0.0</td>\n",
       "      <td>0.0</td>\n",
       "      <td>0.0</td>\n",
       "      <td>0.0</td>\n",
       "      <td>0.0</td>\n",
       "      <td>0.0</td>\n",
       "    </tr>\n",
       "    <tr>\n",
       "      <th>2</th>\n",
       "      <td>Chandler Bing</td>\n",
       "      <td>s01_e01</td>\n",
       "      <td>0.0</td>\n",
       "      <td>0.0</td>\n",
       "      <td>0.0</td>\n",
       "      <td>0.0</td>\n",
       "      <td>0.0</td>\n",
       "      <td>0.0</td>\n",
       "      <td>0.0</td>\n",
       "      <td>0.0</td>\n",
       "      <td>...</td>\n",
       "      <td>0.0</td>\n",
       "      <td>0.0</td>\n",
       "      <td>0.0</td>\n",
       "      <td>0.0</td>\n",
       "      <td>0.0</td>\n",
       "      <td>0.0</td>\n",
       "      <td>0.0</td>\n",
       "      <td>0.0</td>\n",
       "      <td>0.0</td>\n",
       "      <td>0.0</td>\n",
       "    </tr>\n",
       "  </tbody>\n",
       "</table>\n",
       "<p>3 rows × 1002 columns</p>\n",
       "</div>"
      ],
      "text/plain": [
       "          speaker  episode    0    1    2    3    4    5    6    7  ...  990  \\\n",
       "0   Monica Geller  s01_e01  0.0  0.0  0.0  0.0  0.0  0.0  0.0  0.0  ...  0.0   \n",
       "1  Joey Tribbiani  s01_e01  0.0  0.0  0.0  0.0  0.0  0.0  0.0  0.0  ...  0.0   \n",
       "2   Chandler Bing  s01_e01  0.0  0.0  0.0  0.0  0.0  0.0  0.0  0.0  ...  0.0   \n",
       "\n",
       "   991  992  993  994  995  996  997  998  999  \n",
       "0  0.0  0.0  0.0  0.0  0.0  0.0  0.0  0.0  0.0  \n",
       "1  0.0  0.0  0.0  0.0  0.0  0.0  0.0  0.0  0.0  \n",
       "2  0.0  0.0  0.0  0.0  0.0  0.0  0.0  0.0  0.0  \n",
       "\n",
       "[3 rows x 1002 columns]"
      ]
     },
     "execution_count": 102,
     "metadata": {},
     "output_type": "execute_result"
    }
   ],
   "source": [
    "from sklearn.feature_extraction.text import TfidfVectorizer\n",
    "df_tfidf = pd.read_json(\"./data/exam3.jsonl\", lines=True)[[\"speaker\", \"episode\", \"text\"]]\n",
    "\n",
    "vectorizer = TfidfVectorizer(max_features=1000, stop_words=\"english\")\n",
    "X = vectorizer.fit_transform(df_tfidf.text).toarray()\n",
    "print(\"X shape\", X.shape)\n",
    "\n",
    "\n",
    "map_char_to_int = {\n",
    "'Chandler Bing': 0,\n",
    "'Joey Tribbiani': 1,\n",
    "'Monica Geller': 2,\n",
    "'Phoebe Buffay': 3,\n",
    "'Rachel Green': 4,\n",
    "'Ross Geller': 5\n",
    "}\n",
    "\n",
    "\n",
    "y = df_tfidf.speaker.apply(lambda x: map_char_to_int[x]).values\n",
    "print(\"y shape\", y.shape)\n",
    "\n",
    "df_tfidf = pd.concat([df_tfidf[[\"speaker\", \"episode\"]],  pd.DataFrame(X)], axis=1)\n",
    "\n",
    "df_tfidf.head(3)"
   ]
  },
  {
   "cell_type": "markdown",
   "id": "15f01045",
   "metadata": {},
   "source": [
    "--- "
   ]
  },
  {
   "cell_type": "markdown",
   "id": "76d6b6f1",
   "metadata": {},
   "source": [
    "**2.2 —** To compare characters, carry out a classification task. Train a decision tree classifier to predict which main character uttered a sentence..\n",
    "\n",
    "A. Split the dataset into training and test sets using sklearn `sklearn.model_selection.train_test_split` using parameters `test_size=0.3` and `random_state=42`, and using the default values for all other parameters.\n",
    "\n",
    "B. Train a decision tree classifier (`sklearn.tree.DecisionTreeClassifier`) using `random_state=42`, leaving all other parameters as their default.\n",
    "\n",
    "C. Compute the accuracy of your classifier and of a random baseline, i.e., a classifier that predicts a character uniformly at random. **/Discuss:/** Compare the two accuracies.\n",
    "\n",
    "\n",
    "D. Compute the confusion matrix of your classifier using `sklearn.metrics.confusion_matrix`. Normalize the confusion matrix such that all cells sum to 1.\n",
    "\n",
    "E. Plot an appropriate graphical representation of the confusion matrix.\n",
    "\n",
    "F. **/Discuss:/** Analyzing the confusion matrix, discuss:\n",
    "   - Which character is most distinct in the way they talk?\n",
    "   - Which two characters are the most similar in the way they talk?\n",
    "   - Which two characters are the least similar in the way they talk?\n"
   ]
  },
  {
   "cell_type": "code",
   "execution_count": 104,
   "id": "cc61abf5",
   "metadata": {},
   "outputs": [],
   "source": [
    "#A"
   ]
  },
  {
   "cell_type": "code",
   "execution_count": 103,
   "id": "03c8bf67",
   "metadata": {},
   "outputs": [],
   "source": [
    "from sklearn.model_selection import train_test_split\n",
    "from sklearn.tree import DecisionTreeClassifier\n",
    "from sklearn.metrics import confusion_matrix, accuracy_score\n",
    "\n",
    "X_train, X_test, y_train, y_test = train_test_split(X,y,test_size=0.3,random_state=42)"
   ]
  },
  {
   "cell_type": "code",
   "execution_count": 106,
   "id": "8ee4c8f6",
   "metadata": {},
   "outputs": [],
   "source": [
    "clf = DecisionTreeClassifier(random_state=42).fit(X_train, y_train)\n",
    "y_predict = clf.predict(X_test)"
   ]
  },
  {
   "cell_type": "code",
   "execution_count": 107,
   "id": "6b50163f",
   "metadata": {},
   "outputs": [
    {
     "name": "stdout",
     "output_type": "stream",
     "text": [
      "Accuracy: 0.23833961283616995 / Random: 0.16666666666666666\n"
     ]
    }
   ],
   "source": [
    "print(\"Accuracy:\", accuracy_score(y_predict, y_test), \"/ Random:\", 1/6)\n",
    "df_confusion = pd.DataFrame(confusion_matrix(y_test, y_predict))"
   ]
  },
  {
   "cell_type": "code",
   "execution_count": 108,
   "id": "acc4947a",
   "metadata": {},
   "outputs": [
    {
     "data": {
      "text/html": [
       "<div>\n",
       "<style scoped>\n",
       "    .dataframe tbody tr th:only-of-type {\n",
       "        vertical-align: middle;\n",
       "    }\n",
       "\n",
       "    .dataframe tbody tr th {\n",
       "        vertical-align: top;\n",
       "    }\n",
       "\n",
       "    .dataframe thead th {\n",
       "        text-align: right;\n",
       "    }\n",
       "</style>\n",
       "<table border=\"1\" class=\"dataframe\">\n",
       "  <thead>\n",
       "    <tr style=\"text-align: right;\">\n",
       "      <th>Predicted</th>\n",
       "      <th>Chandler Bing</th>\n",
       "      <th>Joey Tribbiani</th>\n",
       "      <th>Monica Geller</th>\n",
       "      <th>Phoebe Buffay</th>\n",
       "      <th>Rachel Green</th>\n",
       "      <th>Ross Geller</th>\n",
       "    </tr>\n",
       "    <tr>\n",
       "      <th>True</th>\n",
       "      <th></th>\n",
       "      <th></th>\n",
       "      <th></th>\n",
       "      <th></th>\n",
       "      <th></th>\n",
       "      <th></th>\n",
       "    </tr>\n",
       "  </thead>\n",
       "  <tbody>\n",
       "    <tr>\n",
       "      <th>Chandler Bing</th>\n",
       "      <td>0.036313</td>\n",
       "      <td>0.025594</td>\n",
       "      <td>0.041575</td>\n",
       "      <td>0.015720</td>\n",
       "      <td>0.024750</td>\n",
       "      <td>0.026634</td>\n",
       "    </tr>\n",
       "    <tr>\n",
       "      <th>Joey Tribbiani</th>\n",
       "      <td>0.025205</td>\n",
       "      <td>0.038067</td>\n",
       "      <td>0.032415</td>\n",
       "      <td>0.017994</td>\n",
       "      <td>0.023905</td>\n",
       "      <td>0.025724</td>\n",
       "    </tr>\n",
       "    <tr>\n",
       "      <th>Monica Geller</th>\n",
       "      <td>0.025400</td>\n",
       "      <td>0.019748</td>\n",
       "      <td>0.052748</td>\n",
       "      <td>0.016630</td>\n",
       "      <td>0.026894</td>\n",
       "      <td>0.022671</td>\n",
       "    </tr>\n",
       "    <tr>\n",
       "      <th>Phoebe Buffay</th>\n",
       "      <td>0.020917</td>\n",
       "      <td>0.020333</td>\n",
       "      <td>0.031896</td>\n",
       "      <td>0.026829</td>\n",
       "      <td>0.024035</td>\n",
       "      <td>0.021437</td>\n",
       "    </tr>\n",
       "    <tr>\n",
       "      <th>Rachel Green</th>\n",
       "      <td>0.026699</td>\n",
       "      <td>0.021567</td>\n",
       "      <td>0.038976</td>\n",
       "      <td>0.019618</td>\n",
       "      <td>0.044888</td>\n",
       "      <td>0.026699</td>\n",
       "    </tr>\n",
       "    <tr>\n",
       "      <th>Ross Geller</th>\n",
       "      <td>0.028128</td>\n",
       "      <td>0.026634</td>\n",
       "      <td>0.039626</td>\n",
       "      <td>0.017929</td>\n",
       "      <td>0.026309</td>\n",
       "      <td>0.039496</td>\n",
       "    </tr>\n",
       "  </tbody>\n",
       "</table>\n",
       "</div>"
      ],
      "text/plain": [
       "Predicted       Chandler Bing  Joey Tribbiani  Monica Geller  Phoebe Buffay  \\\n",
       "True                                                                          \n",
       "Chandler Bing        0.036313        0.025594       0.041575       0.015720   \n",
       "Joey Tribbiani       0.025205        0.038067       0.032415       0.017994   \n",
       "Monica Geller        0.025400        0.019748       0.052748       0.016630   \n",
       "Phoebe Buffay        0.020917        0.020333       0.031896       0.026829   \n",
       "Rachel Green         0.026699        0.021567       0.038976       0.019618   \n",
       "Ross Geller          0.028128        0.026634       0.039626       0.017929   \n",
       "\n",
       "Predicted       Rachel Green  Ross Geller  \n",
       "True                                       \n",
       "Chandler Bing       0.024750     0.026634  \n",
       "Joey Tribbiani      0.023905     0.025724  \n",
       "Monica Geller       0.026894     0.022671  \n",
       "Phoebe Buffay       0.024035     0.021437  \n",
       "Rachel Green        0.044888     0.026699  \n",
       "Ross Geller         0.026309     0.039496  "
      ]
     },
     "metadata": {},
     "output_type": "display_data"
    }
   ],
   "source": [
    "map_int_to_char = {v: k for k, v in map_char_to_int.items()}\n",
    "\n",
    "df_confusion.index = [map_int_to_char[x] for x in df_confusion.index]\n",
    "df_confusion.index.name = \"True\"\n",
    "\n",
    "df_confusion.columns =  [map_int_to_char[x] for x in df_confusion.columns]\n",
    "df_confusion.T.index.name = \"Predicted\"\n",
    "\n",
    "df_confusion = df_confusion / df_confusion.sum(axis=0).sum()\n",
    "display(df_confusion)"
   ]
  },
  {
   "cell_type": "code",
   "execution_count": 109,
   "id": "7f06cb84",
   "metadata": {},
   "outputs": [
    {
     "data": {
      "image/png": "[encoded data removed]",
      "text/plain": [
       "<Figure size 640x480 with 2 Axes>"
      ]
     },
     "metadata": {},
     "output_type": "display_data"
    }
   ],
   "source": [
    "sns.heatmap(df_confusion, annot=True, fmt=\".3f\")\n",
    "plt.show()"
   ]
  },
  {
   "cell_type": "markdown",
   "id": "1a158a88",
   "metadata": {},
   "source": [
    "---\n",
    "\n",
    "**2.3 —** **/Discuss:/** Last, you discuss the results obtained in **2.2** with a friend, who asks you some thought-provoking questions.\n",
    "\n",
    "A. Your friend proposes that you should create a measure of similarity between two characters in a given episode in a more direct way than what you've done in **2.2**.  Propose (but do not implement) said similarity metric.\n",
    "\n",
    "B. Your friend also suggests that your analysis might not truly capture how two characters differ. According to her, if people are in the same conversation, they might speak similarly simply because they are in the same social context. Propose (but do not implement) a way of creating a dataset where this confounder does not exist.\n",
    "\n",
    "C. Last, your friend complains about how you present your (normalized) confusion matrix. According to her, from reading the cells alone, it is unclear if the fraction of occurrences is higher or lower than what a random classifier would yield. Propose (but do not implement) a way of modifying the confusion matrix to address her concern.\n"
   ]
  },
  {
   "cell_type": "code",
   "execution_count": null,
   "id": "9d4253a5",
   "metadata": {},
   "outputs": [],
   "source": []
  },
  {
   "cell_type": "markdown",
   "id": "25c65d90",
   "metadata": {},
   "source": [
    "---"
   ]
  }
 ],
 "metadata": {
  "kernelspec": {
   "display_name": "ada",
   "language": "python",
   "name": "python3"
  },
  "language_info": {
   "codemirror_mode": {
    "name": "ipython",
    "version": 3
   },
   "file_extension": ".py",
   "mimetype": "text/x-python",
   "name": "python",
   "nbconvert_exporter": "python",
   "pygments_lexer": "ipython3",
   "version": "3.11.9"
  }
 },
 "nbformat": 4,
 "nbformat_minor": 5
}
